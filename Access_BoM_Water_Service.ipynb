{
 "cells": [
  {
   "cell_type": "code",
   "execution_count": 6,
   "metadata": {},
   "outputs": [],
   "source": [
    "import bom_water\n",
    "from sidecar import Sidecar\n",
    "from ipyleaflet import Map, GeoJSON, Polygon\n",
    "from IPython.display import display, clear_output, HTML, JSON\n",
    "import json\n",
    "import requests\n",
    "import geopandas as gpd"
   ]
  },
  {
   "cell_type": "markdown",
   "metadata": {},
   "source": [
    "## Get Capability"
   ]
  },
  {
   "cell_type": "code",
   "execution_count": null,
   "metadata": {},
   "outputs": [],
   "source": [
    "bm = bom_water.BomWater()\n",
    "response = bm.request(bm.actions.GetCapabilities)\n",
    "# response\n",
    "JSON(bm.xml_to_json( response.text))"
   ]
  },
  {
   "cell_type": "markdown",
   "metadata": {},
   "source": [
    "## Get Observation\n",
    "\n",
    "Return data type is a Pandas DataFrame"
   ]
  },
  {
   "cell_type": "code",
   "execution_count": 3,
   "metadata": {},
   "outputs": [
    {
     "data": {
      "text/plain": [
       "<AxesSubplot: xlabel='Timestamp[UTC]'>"
      ]
     },
     "execution_count": 3,
     "metadata": {},
     "output_type": "execute_result"
    },
    {
     "data": {
      "image/png": "[encoded data removed]",
      "text/plain": [
       "<Figure size 640x480 with 1 Axes>"
      ]
     },
     "metadata": {},
     "output_type": "display_data"
    }
   ],
   "source": [
    "t_begin = \"2016-01-01T00:00:00+10\"\n",
    "t_end = \"2019-12-31T00:00:00+10\"\n",
    "\n",
    "try:\n",
    "    response = bm.request(bm.actions.GetObservation, bm.features.Cowra_Back_Ck_Nth_P2, bm.properties.Ground_Water_Level, bm.procedures.Pat9_C_B_1, t_begin, t_end)\n",
    "except response.exceptions.RequestException as e:\n",
    "    display(f'BoM service failed with RequestException: {e}')\n",
    "\n",
    "ts = bm.parse_get_data(response)\n",
    "ts.plot.line()"
   ]
  },
  {
   "cell_type": "markdown",
   "metadata": {},
   "source": [
    "## Get Data availability"
   ]
  },
  {
   "cell_type": "code",
   "execution_count": null,
   "metadata": {},
   "outputs": [],
   "source": [
    "response = bm.request(bm.actions.GetDataAvailability, bm.features.Cowra_Back_Ck_Nth_P2, bm.properties.Ground_Water_Level)\n",
    "JSON(bm.xml_to_json( response.text))"
   ]
  },
  {
   "cell_type": "markdown",
   "metadata": {},
   "source": [
    "## Get Feature of interest\n",
    "Simple demo of requesting features within a bounding box and mapping their locations"
   ]
  },
  {
   "cell_type": "code",
   "execution_count": 8,
   "metadata": {},
   "outputs": [
    {
     "data": {
      "application/vnd.jupyter.widget-view+json": {
       "model_id": "1a70043260f2474d9d11e8fcddfce015",
       "version_major": 2,
       "version_minor": 0
      },
      "text/plain": [
       "Map(center=[-32, 146], controls=(ZoomControl(options=['position', 'zoom_in_text', 'zoom_in_title', 'zoom_out_t…"
      ]
     },
     "metadata": {},
     "output_type": "display_data"
    },
    {
     "data": {
      "text/plain": [
       "'Display the json response'"
      ]
     },
     "execution_count": 8,
     "metadata": {},
     "output_type": "execute_result"
    }
   ],
   "source": [
    "low_left_lat = -37.505032\n",
    "low_left_long = 138.00\n",
    "upper_right_lat = -24.00\n",
    "upper_right_long = 154.00\n",
    "\n",
    "lower_left_coords = f'{low_left_lat} {low_left_long}'\n",
    "upper_right_coords = f'{upper_right_lat} {upper_right_long}'\n",
    "\n",
    "bm = bom_water.BomWater()\n",
    "\n",
    "# request( action, feature=None, prop=None, proced=None, begin=None, end=None, lower_corner=None, upper_corner=None)\n",
    "\n",
    "response = bm.request(bm.actions.GetFeatureOfInterest, None, bm.properties.Water_Course_Discharge, bm.procedures.Pat4_C_B_1_DailyMean, None, None, lower_left_coords, upper_right_coords  )\n",
    "response_json = bm.xml_to_json(response.text)\n",
    "'''bomwater creates a FeatureCollection which can be used for mapping'''\n",
    "feature_list = bm.create_feature_list(response_json, None )\n",
    "\n",
    "bbox_poly = Polygon(\n",
    "        locations=[(low_left_lat, low_left_long),(low_left_lat, upper_right_long),(upper_right_lat, upper_right_long),(upper_right_lat, low_left_long)],\n",
    "    color=\"green\",\n",
    "    fill_color=\"green\"\n",
    "        )\n",
    "m = Map(center=(-32, 146), zoom=5)\n",
    "\n",
    "geojsonMarkerOptions = {\n",
    "    'radius': 8,\n",
    "    'fillColor': \"#ff7800\",\n",
    "    'color': \"#000\",\n",
    "    'weight': 1,\n",
    "    'opacity': 1,\n",
    "    'fillOpacity': 0.8\n",
    "};\n",
    "\n",
    "geo_json_stations = GeoJSON(\n",
    "    data=feature_list,\n",
    "    point_style={'radius': 5, 'color': 'blue', 'fillOpacity': 0.8, 'fillColor': 'green', 'weight': 2})\n",
    "\n",
    "def random_color(feature):\n",
    "    return {\n",
    "        'color': 'black',\n",
    "        'fillColor': 'green',#random.choice(['red', 'yellow', 'green', 'orange']),\n",
    "    }\n",
    "\n",
    "shp_mdb = './bomwater_data/Spatial/mdb_buffer_1km.shp'\n",
    "mdb = json.loads(gpd.read_file(shp_mdb).to_json())['features'][0]['geometry']\n",
    "\n",
    "geo_json_mdb = GeoJSON(\n",
    "    data=mdb,\n",
    "    style={\n",
    "        'opacity': 1, 'dashArray': '9', 'fillOpacity': 0.1, 'weight': 1\n",
    "    },\n",
    "    hover_style={\n",
    "        'color': 'green', 'dashArray': '0', 'fillOpacity': 0.3\n",
    "    },\n",
    "    style_callback=random_color\n",
    ")\n",
    "\n",
    "m.add_layer(geo_json_mdb)\n",
    "# m.add_layer(bbox_poly)\n",
    "m.add_layer(geo_json_stations)\n",
    "\n",
    "display(m)\n",
    "\n",
    "'''Display the json response'''\n",
    "# JSON(response_json)"
   ]
  }
 ],
 "metadata": {
  "kernelspec": {
   "display_name": "Python 3.10.5 ('.venv': poetry)",
   "language": "python",
   "name": "python3"
  },
  "language_info": {
   "codemirror_mode": {
    "name": "ipython",
    "version": 3
   },
   "file_extension": ".py",
   "mimetype": "text/x-python",
   "name": "python",
   "nbconvert_exporter": "python",
   "pygments_lexer": "ipython3",
   "version": "3.10.5"
  },
  "vscode": {
   "interpreter": {
    "hash": "2181d7092e74a19a5508a8334aee51df8ea5cf5b2ce40cd8563ee7545dc8350c"
   }
  }
 },
 "nbformat": 4,
 "nbformat_minor": 4
}
