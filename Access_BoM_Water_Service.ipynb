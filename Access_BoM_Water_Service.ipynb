{
 "cells": [
  {
   "cell_type": "code",
   "execution_count": 1,
   "metadata": {},
   "outputs": [],
   "source": [
    "import bom_water\n",
    "from sidecar import Sidecar\n",
    "from ipyleaflet import Map, GeoJSON, Polygon\n",
    "from IPython.display import display, clear_output, HTML, JSON"
   ]
  },
  {
   "cell_type": "markdown",
   "metadata": {},
   "source": [
    "## Get Capability"
   ]
  },
  {
   "cell_type": "code",
   "execution_count": null,
   "metadata": {},
   "outputs": [],
   "source": [
    "bm = bom_water.BomWater()\n",
    "response = bm.request(bm.actions.GetCapabilities)\n",
    "JSON(bm.xml_to_json( response.text))"
   ]
  },
  {
   "cell_type": "markdown",
   "metadata": {},
   "source": [
    "## Get Observation\n",
    "\n",
    "Return data type is a Pandas DataFrame"
   ]
  },
  {
   "cell_type": "code",
   "execution_count": 7,
   "metadata": {},
   "outputs": [
    {
     "data": {
      "text/plain": [
       "<AxesSubplot:xlabel='Timestamp'>"
      ]
     },
     "execution_count": 7,
     "metadata": {},
     "output_type": "execute_result"
    },
    {
     "data": {
      "image/png": "[encoded data removed]",
      "text/plain": [
       "<Figure size 432x288 with 1 Axes>"
      ]
     },
     "metadata": {
      "needs_background": "light"
     },
     "output_type": "display_data"
    }
   ],
   "source": [
    "t_begin = \"2016-01-01T00:00:00+10\"\n",
    "t_end = \"2019-12-31T00:00:00+10\"\n",
    "\n",
    "try:\n",
    "    response = bm.request(bm.actions.GetObservation, bm.features.Cowra_Back_Ck_Nth_P2, bm.properties.Ground_Water_Level, bm.procedures.Pat9_C_B_1, t_begin, t_end)\n",
    "except response.exceptions.RequestException as e:\n",
    "    display(f'BoM service failed with RequestException: {e}')\n",
    "\n",
    "ts = bm.parse_get_data(response)\n",
    "ts.plot.line()"
   ]
  },
  {
   "cell_type": "markdown",
   "metadata": {},
   "source": [
    "## Get Data availability"
   ]
  },
  {
   "cell_type": "code",
   "execution_count": null,
   "metadata": {},
   "outputs": [],
   "source": [
    "response = bm.request(bm.actions.GetDataAvailability, bm.features.Cowra_Back_Ck_Nth_P2, bm.properties.Ground_Water_Level)\n",
    "JSON(bm.xml_to_json( response.text))"
   ]
  },
  {
   "cell_type": "markdown",
   "metadata": {},
   "source": [
    "## Get Feature of interest\n",
    "Simple demo of requesting features within a bounding box and mapping their locations"
   ]
  },
  {
   "cell_type": "code",
   "execution_count": null,
   "metadata": {},
   "outputs": [],
   "source": [
    "low_left_lat = -37.505032\n",
    "low_left_long = 140.999283\n",
    "upper_right_lat = -28.157021\n",
    "upper_right_long = 153.638824\n",
    "\n",
    "lower_left_coords = f'{low_left_lat} {low_left_long}'\n",
    "upper_right_coords = f'{upper_right_lat} {upper_right_long}'\n",
    "\n",
    "bm = bom_water.BomWater()\n",
    "\n",
    "response = bm.request(bm.actions.GetFeatureOfInterest, None, None, None, None, None, lower_left_coords, upper_right_coords  )\n",
    "response_json = bm.xml_to_json(response.text)\n",
    "'''bomwater creates a FeatureCollection which can be used for mapping'''\n",
    "feature_list = bm.create_feature_list(response_json, None )\n",
    "\n",
    "bbox_poly = Polygon(\n",
    "        locations=[(low_left_lat, low_left_long),(low_left_lat, upper_right_long),(upper_right_lat, upper_right_long),(upper_right_lat, low_left_long)],\n",
    "    color=\"green\",\n",
    "    fill_color=\"green\"\n",
    "        )\n",
    "m = Map(center=(-32, 146), zoom=5)\n",
    "\n",
    "geojsonMarkerOptions = {\n",
    "    'radius': 8,\n",
    "    'fillColor': \"#ff7800\",\n",
    "    'color': \"#000\",\n",
    "    'weight': 1,\n",
    "    'opacity': 1,\n",
    "    'fillOpacity': 0.8\n",
    "};\n",
    "\n",
    "geo_json_stations = GeoJSON(\n",
    "    data=feature_list,\n",
    "    point_style={'radius': 5, 'color': 'blue', 'fillOpacity': 0.8, 'fillColor': 'green', 'weight': 2})\n",
    "\n",
    "m.add_layer(bbox_poly)\n",
    "m.add_layer(geo_json_stations)\n",
    "\n",
    "sc = Sidecar(title='MDB sites')\n",
    "with sc:\n",
    "    display(m)\n",
    "\n",
    "'''Display the json response'''\n",
    "JSON(response_json)"
   ]
  }
 ],
 "metadata": {
  "kernelspec": {
   "display_name": "Py3 bomwater",
   "language": "python",
   "name": "bomwater_nb_env"
  },
  "language_info": {
   "codemirror_mode": {
    "name": "ipython",
    "version": 3
   },
   "file_extension": ".py",
   "mimetype": "text/x-python",
   "name": "python",
   "nbconvert_exporter": "python",
   "pygments_lexer": "ipython3",
   "version": "3.7.8"
  }
 },
 "nbformat": 4,
 "nbformat_minor": 4
}
