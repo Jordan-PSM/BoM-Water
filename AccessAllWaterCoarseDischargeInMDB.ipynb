{
 "cells": [
  {
   "cell_type": "code",
   "execution_count": null,
   "metadata": {},
   "outputs": [],
   "source": [
    "import bom_water\n",
    "from sidecar import Sidecar\n",
    "from ipyleaflet import Map, GeoJSON, Polygon\n",
    "from IPython.display import display, clear_output, HTML, JSON\n",
    "import shapely\n",
    "import json\n",
    "import requests\n",
    "import sys"
   ]
  },
  {
   "cell_type": "code",
   "execution_count": null,
   "metadata": {},
   "outputs": [],
   "source": [
    "'''Setup some constants'''\n",
    "bm = bom_water.BomWater()\n",
    "procedure = bm.procedures.Pat4_C_B_1_DailyMean\n",
    "prop = bm.properties.Water_Course_Discharge"
   ]
  },
  {
   "cell_type": "markdown",
   "metadata": {},
   "source": [
    "### Bounding Box for the MDB"
   ]
  },
  {
   "cell_type": "code",
   "execution_count": null,
   "metadata": {},
   "outputs": [],
   "source": [
    "low_left_lat = -37.505032\n",
    "low_left_long = 138.00\n",
    "upper_right_lat = -24.00\n",
    "upper_right_long = 154.00\n",
    "\n",
    "lower_left_coords = f'{low_left_lat} {low_left_long}'\n",
    "upper_right_coords = f'{upper_right_lat} {upper_right_long}'"
   ]
  },
  {
   "cell_type": "markdown",
   "metadata": {},
   "source": [
    "## Get Feature of interest for the MDB for:\n",
    "- Property - Water Course Discharge\n",
    "- Procedure - Pat4_C_B_1_DailyMean\n",
    "\n",
    "Note - the BOM api is unable to filter base on a polygon, so a bounding box is used to obtain all point and then the Geofabric geometery is used to filter the results"
   ]
  },
  {
   "cell_type": "code",
   "execution_count": null,
   "metadata": {},
   "outputs": [],
   "source": [
    "\n",
    "# request( action, feature=None, prop=None, proced=None, begin=None, end=None, lower_corner=None, upper_corner=None)\n",
    "\n",
    "response = bm.request(bm.actions.GetFeatureOfInterest, None, prop, procedure, None, None, lower_left_coords, upper_right_coords  )\n",
    "response_json = bm.xml_to_json(response.text)\n",
    "'''bomwater creates a FeatureCollection which can be used for mapping'''\n",
    "feature_list = bm.create_feature_list(response_json, None )\n",
    "\n",
    "bbox_poly = Polygon(\n",
    "        locations=[(low_left_lat, low_left_long),(low_left_lat, upper_right_long),(upper_right_lat, upper_right_long),(upper_right_lat, low_left_long)],\n",
    "    color=\"green\",\n",
    "    fill_color=\"green\"\n",
    "        )\n",
    "m = Map(center=(-32, 146), zoom=5)\n",
    "\n",
    "geojsonMarkerOptions = {\n",
    "    'radius': 8,\n",
    "    'fillColor': \"#ff7800\",\n",
    "    'color': \"#000\",\n",
    "    'weight': 1,\n",
    "    'opacity': 1,\n",
    "    'fillOpacity': 0.8\n",
    "};\n",
    "\n",
    "geo_json_stations = GeoJSON(\n",
    "    data=feature_list,\n",
    "    point_style={'radius': 5, 'color': 'blue', 'fillOpacity': 0.8, 'fillColor': 'green', 'weight': 2})\n",
    "\n",
    "loci_mdb = \"https://gds.loci.cat/geometry/geofabric2_1_1_awradrainagedivision/9400206?_format=application/json&_view=simplifiedgeom\"\n",
    "def random_color(feature):\n",
    "    return {\n",
    "        'color': 'black',\n",
    "        'fillColor': 'green',#random.choice(['red', 'yellow', 'green', 'orange']),\n",
    "    }\n",
    "mdb = json.loads(requests.get(loci_mdb).text)\n",
    "geo_json_mdb = GeoJSON(\n",
    "    data=mdb,\n",
    "    style={\n",
    "        'opacity': 1, 'dashArray': '9', 'fillOpacity': 0.1, 'weight': 1\n",
    "    },\n",
    "    hover_style={\n",
    "        'color': 'green', 'dashArray': '0', 'fillOpacity': 0.3\n",
    "    },\n",
    "    style_callback=random_color\n",
    ")\n",
    "\n",
    "m.add_layer(geo_json_mdb)\n",
    "m.add_layer(bbox_poly)\n",
    "m.add_layer(geo_json_stations)\n",
    "\n",
    "sc = Sidecar(title='MDB sites')\n",
    "with sc:\n",
    "    display(m)\n",
    "\n",
    "'''Display the json response'''\n",
    "JSON(response_json)"
   ]
  },
  {
   "cell_type": "markdown",
   "metadata": {},
   "source": [
    "## Filter results from using a bbox using a Geofabric geometry of the MDB"
   ]
  },
  {
   "cell_type": "code",
   "execution_count": null,
   "metadata": {},
   "outputs": [],
   "source": [
    "mdb_sites = []\n",
    "loci_mdb = \"https://gds.loci.cat/geometry/geofabric2_1_1_awradrainagedivision/9400206?_format=application/json&_view=simplifiedgeom\"\n",
    "mdb = json.loads(requests.get(loci_mdb).text)\n",
    "mdb_coords = mdb['coordinates']\n",
    "poly_mdb = shapely.geometry.Polygon(mdb_coords[2][0])#mdb_coords is a multipolgon, so the 2nd index has the main poly of interest\n",
    "display(poly_mdb)\n",
    "for f in feature_list['features']:\n",
    "    point = shapely.geometry.Point(f['geometry']['coordinates'])\n",
    "    \n",
    "    if point.within(poly_mdb):\n",
    "#         print(f'Points X: {point.x}, Point Y: {point.y}')\n",
    "        mdb_sites.append(f)\n",
    "mdb_sites   "
   ]
  },
  {
   "cell_type": "code",
   "execution_count": null,
   "metadata": {},
   "outputs": [],
   "source": [
    "'''Quick look at the results'''\n",
    "display(mdb_sites[0])\n",
    "print(f'Found - {len(mdb_sites)} sites within the MDB')"
   ]
  },
  {
   "cell_type": "markdown",
   "metadata": {},
   "source": [
    "## Obtain one observations for display"
   ]
  },
  {
   "cell_type": "code",
   "execution_count": null,
   "metadata": {},
   "outputs": [],
   "source": [
    "t_begin = \"1800-01-01T00:00:00+10\"\n",
    "t_end = \"2030-12-31T00:00:00+10\"\n",
    "\n",
    "try:\n",
    "    response = bm.request(bm.actions.GetObservation, mdb_sites[0]['properties']['stationNo'], prop, procedure, t_begin, t_end)\n",
    "except response.exceptions.RequestException as e:\n",
    "    display(f'BoM service failed with RequestException: {e}')\n",
    "\n",
    "response_json = bm.xml_to_json(response.text)  \n",
    "ts = bm.parse_get_data(response)\n",
    "ts.plot.line()\n",
    "ts"
   ]
  },
  {
   "cell_type": "code",
   "execution_count": null,
   "metadata": {},
   "outputs": [],
   "source": [
    "import logging\n",
    "import sys\n",
    "\n",
    "logging.basicConfig(\n",
    "    level=logging.INFO, \n",
    "    format='[{%(filename)s:%(lineno)d} %(levelname)s - %(message)s',\n",
    "    handlers=[\n",
    "        logging.FileHandler(filename='tmp5a.log'),\n",
    "        logging.StreamHandler(sys.stdout)\n",
    "    ]\n",
    ")\n",
    "\n",
    "logger = logging.getLogger('TS_Saver')"
   ]
  },
  {
   "cell_type": "code",
   "execution_count": null,
   "metadata": {},
   "outputs": [],
   "source": [
    "'''Write all data to disk - Note: Folders should exist before running'''\n",
    "for sites in mdb_sites:\n",
    "    try:\n",
    "        response = bm.request(bm.actions.GetObservation, sites['properties']['stationNo'], prop, procedure, t_begin, t_end)\n",
    "        ts = bm.parse_get_data(response)\n",
    "        stationNo = sites['properties']['stationNo']\n",
    "        if len(ts.index) < 1:\n",
    "            logger.warning(f'Data length is zero for station: {stationNo}')\n",
    "        else:\n",
    "            ts.to_csv(f'../bomwater_data/mdb_water_coarse_discharge/{stationNo}.csv')\n",
    "    except:\n",
    "        e = sys.exc_info()[0]\n",
    "        stationNo = sites['properties']['stationNo']\n",
    "        logger.warning(f'BoM service failed with system info: {e} for station: {stationNo}')\n",
    "        "
   ]
  }
 ],
 "metadata": {
  "kernelspec": {
   "display_name": "Py3 bomwater",
   "language": "python",
   "name": "bomwater_nb_env"
  },
  "language_info": {
   "codemirror_mode": {
    "name": "ipython",
    "version": 3
   },
   "file_extension": ".py",
   "mimetype": "text/x-python",
   "name": "python",
   "nbconvert_exporter": "python",
   "pygments_lexer": "ipython3",
   "version": "3.7.10"
  }
 },
 "nbformat": 4,
 "nbformat_minor": 4
}
