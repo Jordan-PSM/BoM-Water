{
 "cells": [
  {
   "cell_type": "markdown",
   "metadata": {
    "colab_type": "text",
    "id": "view-in-github"
   },
   "source": [
    "<a href=\"https://colab.research.google.com/github/alchav06/sos4py/blob/master/demo_sos4py.ipynb\" target=\"_parent\"><img src=\"https://colab.research.google.com/assets/colab-badge.svg\" alt=\"Open In Colab\"/></a>"
   ]
  },
  {
   "cell_type": "code",
   "execution_count": null,
   "metadata": {
    "colab": {
     "base_uri": "https://localhost:8080/",
     "height": 459
    },
    "colab_type": "code",
    "id": "yRNA8GbyGiPO",
    "outputId": "4b22f771-bf5d-4dd8-dd6a-d82bb39ceb87"
   },
   "outputs": [],
   "source": [
    "pip install sos4py"
   ]
  },
  {
   "cell_type": "code",
   "execution_count": null,
   "metadata": {
    "colab": {},
    "colab_type": "code",
    "id": "XxkCtbHHGsAS"
   },
   "outputs": [],
   "source": [
    "from sos4py.main import connection_sos\n",
    "\n",
    "#Connect to a SOS server\n",
    "service = connection_sos(\"http://sensorweb.demo.52north.org/sensorwebtestbed/service/kvp\")\n",
    "service2 = connection_sos('http://sensorweb.demo.52north.org/52n-sos-webapp/sos/kvp')"
   ]
  },
  {
   "cell_type": "code",
   "execution_count": null,
   "metadata": {
    "colab": {
     "base_uri": "https://localhost:8080/",
     "height": 1000
    },
    "colab_type": "code",
    "id": "dcymvK31G0je",
    "outputId": "d5be6a43-601b-4183-8593-2eaa01cb9ecb"
   },
   "outputs": [],
   "source": [
    "# Request all data availability\n",
    "service2.get_data_availability()"
   ]
  },
  {
   "cell_type": "code",
   "execution_count": null,
   "metadata": {
    "colab": {
     "base_uri": "https://localhost:8080/",
     "height": 153
    },
    "colab_type": "code",
    "id": "qLqvQbfDH6Bk",
    "outputId": "c1348a61-5c1a-4c5d-a270-11c041432494"
   },
   "outputs": [],
   "source": [
    "#Query a GDA request\n",
    "service2.get_data_availability(procedures=['http://www.52north.org/test/procedure/6'], featuresOfInterest=['http://www.52north.org/test/featureOfInterest/6'])"
   ]
  },
  {
   "cell_type": "code",
   "execution_count": null,
   "metadata": {
    "colab": {
     "base_uri": "https://localhost:8080/",
     "height": 221
    },
    "colab_type": "code",
    "id": "Zbu89OWYFnJm",
    "outputId": "ad4acf8a-f5b5-453d-8bcc-d8f1e04386a9"
   },
   "outputs": [],
   "source": [
    "#Access service identification\n",
    "service.sosServiceIdentification()"
   ]
  },
  {
   "cell_type": "code",
   "execution_count": null,
   "metadata": {
    "colab": {
     "base_uri": "https://localhost:8080/",
     "height": 884
    },
    "colab_type": "code",
    "id": "CabdVhj8GIef",
    "outputId": "3db1a834-a83b-4b69-97b8-77fa3c81d377"
   },
   "outputs": [],
   "source": [
    "# What type is this function? Pandas Series\n",
    "type(service.sosServiceIdentification())\n",
    "# Access to elements in pandas Series dataframe\n",
    "service.sosServiceIdentification()['profiles']"
   ]
  },
  {
   "cell_type": "code",
   "execution_count": null,
   "metadata": {
    "colab": {
     "base_uri": "https://localhost:8080/",
     "height": 323
    },
    "colab_type": "code",
    "id": "qECGEevKFtex",
    "outputId": "feb9842d-f3e0-4d52-c996-b3bb782387f9"
   },
   "outputs": [],
   "source": [
    "service.sosProvider()"
   ]
  },
  {
   "cell_type": "code",
   "execution_count": null,
   "metadata": {
    "colab": {
     "base_uri": "https://localhost:8080/",
     "height": 35
    },
    "colab_type": "code",
    "id": "2o9EkayUGHVS",
    "outputId": "feb81233-e5ef-45d1-a7a8-b7a4bedd8d06"
   },
   "outputs": [],
   "source": [
    "#Access operations metadata\n",
    "service.sosOperationsMetadata()[1]['Name']"
   ]
  },
  {
   "cell_type": "code",
   "execution_count": null,
   "metadata": {
    "colab": {
     "base_uri": "https://localhost:8080/",
     "height": 34
    },
    "colab_type": "code",
    "id": "yfMFy9cdGP2S",
    "outputId": "93cadec0-d48d-40ff-da39-59dca5245cef"
   },
   "outputs": [],
   "source": [
    "#Access offerings of the server\n",
    "service.sosOfferings()[1]['bbox']"
   ]
  },
  {
   "cell_type": "code",
   "execution_count": null,
   "metadata": {
    "colab": {
     "base_uri": "https://localhost:8080/",
     "height": 578
    },
    "colab_type": "code",
    "id": "upuEBGDIGReL",
    "outputId": "5cc7159d-f6aa-4fd4-9694-c75f908eb507"
   },
   "outputs": [],
   "source": [
    "# Access to list elements\n",
    "service.sosPhenomena()"
   ]
  }
 ],
 "metadata": {
  "colab": {
   "authorship_tag": "ABX9TyMNuBKlK0xe9ttCjtdtNoEp",
   "include_colab_link": true,
   "name": "Untitled1.ipynb",
   "provenance": []
  },
  "kernelspec": {
   "display_name": "Python 3",
   "language": "python",
   "name": "python3"
  },
  "language_info": {
   "codemirror_mode": {
    "name": "ipython",
    "version": 3
   },
   "file_extension": ".py",
   "mimetype": "text/x-python",
   "name": "python",
   "nbconvert_exporter": "python",
   "pygments_lexer": "ipython3",
   "version": "3.8.5"
  }
 },
 "nbformat": 4,
 "nbformat_minor": 4
}
