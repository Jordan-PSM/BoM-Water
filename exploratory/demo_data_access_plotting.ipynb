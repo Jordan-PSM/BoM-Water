{
 "cells": [
  {
   "cell_type": "markdown",
   "metadata": {},
   "source": [
    "# Libs and SOS instance"
   ]
  },
  {
   "cell_type": "code",
   "execution_count": null,
   "metadata": {},
   "outputs": [],
   "source": [
    "from sos4py.main import connection_sos\n",
    "from sos4py.sos_2_0_0 import SOSGetFeatureOfInterestResponse\n",
    "\n",
    "from matplotlib import pyplot as plt\n",
    "import seaborn as sns\n",
    "import scipy.stats as stats\n",
    "import pandas as pd\n",
    "\n",
    "# import folium\n",
    "# import contextily as ctx"
   ]
  },
  {
   "cell_type": "code",
   "execution_count": null,
   "metadata": {},
   "outputs": [],
   "source": [
    "# Create SOS instance \n",
    "fluggs_sos = connection_sos(\"https://fluggs.wupperverband.de/sos2/service\")"
   ]
  },
  {
   "cell_type": "markdown",
   "metadata": {},
   "source": [
    "# 1) Learn about content of SOS "
   ]
  },
  {
   "cell_type": "markdown",
   "metadata": {},
   "source": [
    "#### Service"
   ]
  },
  {
   "cell_type": "code",
   "execution_count": null,
   "metadata": {},
   "outputs": [],
   "source": [
    "print(fluggs_sos.sosServiceIdentification())\n",
    "#print(fluggs_sos.sosServiceIdentification()['profiles'])"
   ]
  },
  {
   "cell_type": "markdown",
   "metadata": {},
   "source": [
    "#### Provider"
   ]
  },
  {
   "cell_type": "code",
   "execution_count": null,
   "metadata": {},
   "outputs": [],
   "source": [
    "print(fluggs_sos.sosProvider())"
   ]
  },
  {
   "cell_type": "markdown",
   "metadata": {},
   "source": [
    "#### SOS operations"
   ]
  },
  {
   "cell_type": "code",
   "execution_count": null,
   "metadata": {},
   "outputs": [],
   "source": [
    "print(fluggs_sos.sosOperationsMetadata())\n",
    "#print(fluggs_sos.sosOperationsMetadata()[1]['Name'])"
   ]
  },
  {
   "cell_type": "markdown",
   "metadata": {},
   "source": [
    "#### All offerings"
   ]
  },
  {
   "cell_type": "code",
   "execution_count": null,
   "metadata": {},
   "outputs": [],
   "source": [
    "print(fluggs_sos.sosOfferings())\n",
    "#print(fluggs_sos.sosOfferings()[1])\n",
    "#print(fluggs_sos.sosOfferings()[1]['bbox'])"
   ]
  },
  {
   "cell_type": "markdown",
   "metadata": {},
   "source": [
    "#### All available phenomena (independent of e.g feature of interest or offering)"
   ]
  },
  {
   "cell_type": "code",
   "execution_count": null,
   "metadata": {},
   "outputs": [],
   "source": [
    "print(fluggs_sos.sosPhenomena())"
   ]
  },
  {
   "cell_type": "markdown",
   "metadata": {},
   "source": [
    "#### All available features of interest"
   ]
  },
  {
   "cell_type": "code",
   "execution_count": null,
   "metadata": {},
   "outputs": [],
   "source": [
    "print(fluggs_sos.sosFeaturesOfInterest())"
   ]
  },
  {
   "cell_type": "markdown",
   "metadata": {},
   "source": [
    "#### Data availability"
   ]
  },
  {
   "cell_type": "code",
   "execution_count": null,
   "metadata": {},
   "outputs": [],
   "source": [
    "#print(fluggs_sos.get_data_availability())\n",
    "\n",
    "props = ['Wassertemperatur']\n",
    "fois = ['Opladen','Bever-Talsperre']\n",
    "gda = fluggs_sos.get_data_availability(observedProperties=props,featuresOfInterest=fois)\n",
    "print(gda)"
   ]
  },
  {
   "cell_type": "markdown",
   "metadata": {},
   "source": [
    "# 2) Spatial data"
   ]
  },
  {
   "cell_type": "markdown",
   "metadata": {},
   "source": [
    "### 2a) Get spatial data"
   ]
  },
  {
   "cell_type": "code",
   "execution_count": null,
   "metadata": {},
   "outputs": [],
   "source": [
    "include_phenomena = False\n",
    "fluggs_sites = fluggs_sos.get_sites(include_phenomena)\n",
    "fluggs_sites.head()"
   ]
  },
  {
   "cell_type": "code",
   "execution_count": null,
   "metadata": {},
   "outputs": [],
   "source": [
    "# Check and change coordinate reference system\n",
    "print(fluggs_sites.crs,\"\\n\")\n",
    "fluggs_sites = fluggs_sites.to_crs('epsg:4326')\n",
    "\n",
    "# View specific site using integer-locaiton\n",
    "print(fluggs_sites.iloc[0])"
   ]
  },
  {
   "cell_type": "markdown",
   "metadata": {},
   "source": [
    "### 2b) Plot spatial data"
   ]
  },
  {
   "cell_type": "code",
   "execution_count": null,
   "metadata": {},
   "outputs": [],
   "source": [
    "# Static map using GeoDataframe.plot\n",
    "\n",
    "# sites = sites.to_crs('epsg:3857') # epsg:4326\n",
    "ax = fluggs_sites.plot(figsize=(15, 15))\n",
    "ctx.add_basemap(ax, crs=fluggs_sites.crs.to_string())\n",
    "# optional parameters:\n",
    "# source=ctx.providers.OpenStreetMap.Mapnik\n",
    "# zoom=12\n",
    "ax"
   ]
  },
  {
   "cell_type": "code",
   "execution_count": null,
   "metadata": {
    "scrolled": true
   },
   "outputs": [],
   "source": [
    "# Interactive map using folium\n",
    "\n",
    "lngs = list(fluggs_sites['geometry'].apply(lambda coord: coord.x))\n",
    "lats = list(fluggs_sites['geometry'].apply(lambda coord: coord.y))\n",
    "avg_lat = sum(lats) / len(lats)\n",
    "avg_lngs = sum(lngs) / len(lngs)\n",
    "\n",
    "# folium uses (lat, long) or (y, x), respectively\n",
    "locationlist = [[site.y, site.x] for site in fluggs_sites['geometry']]\n",
    "\n",
    "m = folium.Map(location=[avg_lat, avg_lngs], zoom_start=10)\n",
    "for point in range(0, len(locationlist)):\n",
    "    popup = folium.Popup(folium.IFrame(html=fluggs_sites['site_name'][point], width=200, height=80))\n",
    "    folium.Marker(locationlist[point], popup=popup).add_to(m)\n",
    "m"
   ]
  },
  {
   "cell_type": "markdown",
   "metadata": {},
   "source": [
    "# 3) Sensor data"
   ]
  },
  {
   "cell_type": "markdown",
   "metadata": {},
   "source": [
    "### 3a) Get sensor data"
   ]
  },
  {
   "cell_type": "code",
   "execution_count": null,
   "metadata": {},
   "outputs": [],
   "source": [
    "# Optional arguments for get_data(): procedures, phenomena, sites, begin, end\n",
    "begin = '2019-01-01T00:00:00Z' \n",
    "end = '2019-01-31T23:59:59Z'\n",
    "procedures = ['2m_Tiefe']\n",
    "phenomena = ['Wassertemperatur']\n",
    "sites = ['Opladen']\n",
    "\n",
    "fluggs_obs = fluggs_sos.get_data(sites=sites, phenomena=phenomena, begin=begin, end=end)\n",
    "\n",
    "fluggs_obs.head()"
   ]
  },
  {
   "cell_type": "code",
   "execution_count": null,
   "metadata": {},
   "outputs": [],
   "source": [
    "# Check unique values in column\n",
    "fluggs_obs['procedure'].unique()"
   ]
  },
  {
   "cell_type": "code",
   "execution_count": null,
   "metadata": {},
   "outputs": [],
   "source": [
    "# Subset of data frame\n",
    "#fluggs_obs[(fluggs_obs['site']=='Opladen') & (fluggs_obs['procedure']=='Einzelwerte')]\n",
    "#fluggs_obs[(fluggs_obs['value'] > 5)] "
   ]
  },
  {
   "cell_type": "markdown",
   "metadata": {},
   "source": [
    "### 3b) Plot sensor data"
   ]
  },
  {
   "cell_type": "markdown",
   "metadata": {},
   "source": [
    "#### Plot a single time series"
   ]
  },
  {
   "cell_type": "code",
   "execution_count": null,
   "metadata": {},
   "outputs": [],
   "source": [
    "foi = sites[0]\n",
    "x = fluggs_obs[fluggs_obs['site']==foi]['time_stamp'].to_numpy()\n",
    "y = fluggs_obs[fluggs_obs['site']==foi]['value'].to_numpy()\n",
    "\n",
    "plt.figure(figsize=(12,5))\n",
    "plt.plot(x,y)\n",
    "plt.xlabel('Time')\n",
    "plt.ylabel(fluggs_obs['phenomenon'][0] + \" \" + fluggs_obs['procedure'][0] + \" in \" + fluggs_obs['unit'][0])\n",
    "plt.title(fluggs_obs['site'][0])\n",
    "plt.show()"
   ]
  },
  {
   "cell_type": "markdown",
   "metadata": {},
   "source": [
    "#### Plot two time series of two different sites"
   ]
  },
  {
   "cell_type": "code",
   "execution_count": null,
   "metadata": {},
   "outputs": [],
   "source": [
    "# Check data availability\n",
    "fluggs_sos.get_data_availability(observedProperties=['Wassertemperatur'],procedures=['Einzelwerte'])"
   ]
  },
  {
   "cell_type": "code",
   "execution_count": null,
   "metadata": {},
   "outputs": [],
   "source": [
    "# New request with two sites\n",
    "begin = '2019-01-01T00:00:00Z' \n",
    "end = '2019-01-31T23:59:59Z'\n",
    "procedures = ['Einzelwerte']\n",
    "phenomena = ['Wassertemperatur']\n",
    "sites = ['Opladen','Laaken']\n",
    "\n",
    "fluggs_obs = fluggs_sos.get_data(sites=sites, phenomena=phenomena, begin=begin, end=end)\n",
    "fluggs_obs.head()"
   ]
  },
  {
   "cell_type": "code",
   "execution_count": null,
   "metadata": {},
   "outputs": [],
   "source": [
    "x1 = fluggs_obs[(fluggs_obs['site']==sites[0])]['time_stamp'].to_numpy()\n",
    "y1 = fluggs_obs[(fluggs_obs['site']==sites[0])]['value'].to_numpy()\n",
    "\n",
    "x2 = fluggs_obs[(fluggs_obs['site']==sites[1])]['time_stamp'].to_numpy()\n",
    "y2 = fluggs_obs[(fluggs_obs['site']==sites[1])]['value'].to_numpy()\n",
    "\n",
    "plt.figure(figsize=(12,5))\n",
    "plt.plot(x1,y1,label=sites[0])\n",
    "plt.plot(x2,y2,label=sites[1])\n",
    "plt.xlabel('Time')\n",
    "plt.ylabel(fluggs_obs['phenomenon'][0] + \" \" + fluggs_obs['procedure'][0] + \" in \" + fluggs_obs['unit'][0])\n",
    "plt.legend()\n",
    "plt.show()"
   ]
  },
  {
   "cell_type": "markdown",
   "metadata": {},
   "source": [
    "#### Plot two time series of two different phenomena"
   ]
  },
  {
   "cell_type": "code",
   "execution_count": null,
   "metadata": {},
   "outputs": [],
   "source": [
    "fluggs_sos.get_data_availability(featureOfInterest=['Bever-Talsperre'],observedProperties=['Luftfeuchte','Lufttemperatur'])"
   ]
  },
  {
   "cell_type": "code",
   "execution_count": null,
   "metadata": {},
   "outputs": [],
   "source": [
    "# New request with two phenomena for one site\n",
    "begin = '2011-01-01T00:00:00Z' \n",
    "end = '2011-01-31T23:59:59Z'\n",
    "phenomena = ['Luftfeuchte','Lufttemperatur']\n",
    "sites = ['Bever-Talsperre']\n",
    "\n",
    "fluggs_obs = fluggs_sos.get_data(sites=sites, phenomena=phenomena, begin=begin, end=end)\n",
    "fluggs_obs.head()"
   ]
  },
  {
   "cell_type": "code",
   "execution_count": null,
   "metadata": {},
   "outputs": [],
   "source": [
    "x3 = fluggs_obs[(fluggs_obs['phenomenon']==phenomena[0])]['time_stamp'].to_numpy()\n",
    "y3 = fluggs_obs[(fluggs_obs['phenomenon']==phenomena[0])]['value'].to_numpy()\n",
    "\n",
    "x4 = fluggs_obs[(fluggs_obs['phenomenon']==phenomena[1])]['time_stamp'].to_numpy()\n",
    "y4 = fluggs_obs[(fluggs_obs['phenomenon']==phenomena[1])]['value'].to_numpy()\n",
    "\n",
    "fig, ax1 = plt.subplots(figsize=(12,5))\n",
    "\n",
    "color = 'red'\n",
    "ax1.set_xlabel('Time')\n",
    "ax1.set_ylabel('Luftfeuchte', color=color)\n",
    "ax1.plot(x3, y3, color=color)\n",
    "ax1.tick_params(axis='y', labelcolor=color)\n",
    "\n",
    "ax2 = ax1.twinx()  \n",
    "\n",
    "color = 'blue'\n",
    "ax2.set_ylabel('Lufttemperatur', color=color)  \n",
    "ax2.plot(x4, y4, color=color)\n",
    "ax2.tick_params(axis='y', labelcolor=color)\n",
    "\n",
    "fig.tight_layout()  \n",
    "plt.show()"
   ]
  },
  {
   "cell_type": "markdown",
   "metadata": {},
   "source": [
    "#### Data sub-sampling"
   ]
  },
  {
   "cell_type": "code",
   "execution_count": null,
   "metadata": {},
   "outputs": [],
   "source": [
    "interval = '4h'\n",
    "\n",
    "# Phenomenon 1\n",
    "df1 = fluggs_obs[(fluggs_obs['phenomenon']==phenomena[0])]\n",
    "df1 = df1[['time_stamp','value']]\n",
    "\n",
    "# Remove duplicate time stamps and sub-sample data\n",
    "grouped = df1.groupby('time_stamp')['value']\n",
    "grouped = grouped.agg('mean')\n",
    "df1 = pd.DataFrame(grouped)\n",
    "df1_sub = df1.resample(interval).nearest()\n",
    "df1_sub = df1_sub.reset_index()\n",
    "\n",
    "\n",
    "# Phenomenon 2\n",
    "df2 = fluggs_obs[(fluggs_obs['phenomenon']==phenomena[1])]\n",
    "df2 = df2[['time_stamp','value']]\n",
    "\n",
    "# Remove duplicate time stamps and sub-sample data\n",
    "grouped = df2.groupby('time_stamp')['value']\n",
    "grouped = grouped.agg('mean')\n",
    "df2 = pd.DataFrame(grouped)\n",
    "df2_sub = df2.resample(interval).nearest()\n",
    "df2_sub = df2_sub.reset_index()"
   ]
  },
  {
   "cell_type": "code",
   "execution_count": null,
   "metadata": {},
   "outputs": [],
   "source": [
    "x3 = df1_sub['time_stamp'].to_numpy()\n",
    "y3 = df1_sub['value'].to_numpy()\n",
    "\n",
    "x4 = df2_sub['time_stamp'].to_numpy()\n",
    "y4 = df2_sub['value'].to_numpy()\n",
    "\n",
    "fig, ax1 = plt.subplots(figsize=(12,5))\n",
    "\n",
    "color = 'red'\n",
    "ax1.set_xlabel('Time')\n",
    "ax1.set_ylabel('Luftfeuchte', color=color)\n",
    "ax1.plot(x3, y3, color=color)\n",
    "ax1.tick_params(axis='y', labelcolor=color)\n",
    "\n",
    "ax2 = ax1.twinx()  \n",
    "\n",
    "color = 'blue'\n",
    "ax2.set_ylabel('Lufttemperatur', color=color)  \n",
    "ax2.plot(x4, y4, color=color)\n",
    "ax2.tick_params(axis='y', labelcolor=color)\n",
    "\n",
    "fig.tight_layout()  \n",
    "plt.show()"
   ]
  },
  {
   "cell_type": "markdown",
   "metadata": {},
   "source": [
    "#### Histogram and Kernel density estimation (KDE)"
   ]
  },
  {
   "cell_type": "code",
   "execution_count": null,
   "metadata": {},
   "outputs": [],
   "source": [
    "sns.distplot(y1, bins=10);\n",
    "sns.distplot(y2, bins=10);"
   ]
  },
  {
   "cell_type": "markdown",
   "metadata": {},
   "source": [
    "#### 2D KDE"
   ]
  },
  {
   "cell_type": "code",
   "execution_count": null,
   "metadata": {},
   "outputs": [],
   "source": [
    "sns.kdeplot(y1,y2);"
   ]
  },
  {
   "cell_type": "markdown",
   "metadata": {},
   "source": [
    "#### Joint plots/Correlation"
   ]
  },
  {
   "cell_type": "code",
   "execution_count": null,
   "metadata": {},
   "outputs": [],
   "source": [
    "sns.jointplot(y1, y2, kind='reg', joint_kws={'line_kws':{'color':'red'}}).annotate(stats.pearsonr);"
   ]
  },
  {
   "cell_type": "code",
   "execution_count": null,
   "metadata": {},
   "outputs": [],
   "source": [
    "sns.jointplot(y1, y2, kind='hex');"
   ]
  },
  {
   "cell_type": "code",
   "execution_count": null,
   "metadata": {},
   "outputs": [],
   "source": [
    "sns.jointplot(y1, y2, kind='kde');"
   ]
  },
  {
   "cell_type": "code",
   "execution_count": null,
   "metadata": {},
   "outputs": [],
   "source": []
  }
 ],
 "metadata": {
  "colab": {
   "authorship_tag": "ABX9TyMNuBKlK0xe9ttCjtdtNoEp",
   "include_colab_link": true,
   "name": "Untitled1.ipynb",
   "provenance": []
  },
  "kernelspec": {
   "display_name": "Py3 wqml",
   "language": "python",
   "name": "wqml"
  },
  "language_info": {
   "codemirror_mode": {
    "name": "ipython",
    "version": 3
   },
   "file_extension": ".py",
   "mimetype": "text/x-python",
   "name": "python",
   "nbconvert_exporter": "python",
   "pygments_lexer": "ipython3",
   "version": "3.8.5"
  }
 },
 "nbformat": 4,
 "nbformat_minor": 4
}
